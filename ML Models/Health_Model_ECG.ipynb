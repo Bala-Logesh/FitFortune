{
  "nbformat": 4,
  "nbformat_minor": 0,
  "metadata": {
    "colab": {
      "provenance": []
    },
    "kernelspec": {
      "name": "python3",
      "display_name": "Python 3"
    },
    "language_info": {
      "name": "python"
    }
  },
  "cells": [
    {
      "cell_type": "code",
      "execution_count": 12,
      "metadata": {
        "id": "wcvrbPFpQ3_a"
      },
      "outputs": [],
      "source": [
        "import tensorflow as tf\n",
        "import pandas as pd\n",
        "import numpy as np\n",
        "from tensorflow.keras.models import Sequential\n",
        "from tensorflow.keras.layers import Dense, LSTM, Conv1D, MaxPooling1D, Flatten, Dropout"
      ]
    },
    {
      "cell_type": "code",
      "source": [
        "from google.colab import drive\n",
        "drive.mount('/content/drive')"
      ],
      "metadata": {
        "colab": {
          "base_uri": "https://localhost:8080/"
        },
        "id": "MFky1yQaWVBA",
        "outputId": "ef152dfc-577d-4711-c54e-a4dde449c8a4"
      },
      "execution_count": 23,
      "outputs": [
        {
          "output_type": "stream",
          "name": "stdout",
          "text": [
            "Drive already mounted at /content/drive; to attempt to forcibly remount, call drive.mount(\"/content/drive\", force_remount=True).\n"
          ]
        }
      ]
    },
    {
      "cell_type": "code",
      "source": [
        "cd '/content/drive/MyDrive/Health_Model'"
      ],
      "metadata": {
        "colab": {
          "base_uri": "https://localhost:8080/"
        },
        "id": "jeg3jGf0WWkI",
        "outputId": "bdeb4e3c-d804-4c47-9529-79f1c4052d21"
      },
      "execution_count": 24,
      "outputs": [
        {
          "output_type": "stream",
          "name": "stdout",
          "text": [
            "/content/drive/MyDrive/Health_Model\n"
          ]
        }
      ]
    },
    {
      "cell_type": "code",
      "source": [
        "X_train = pd.read_csv('ECG/train/X_train.csv', delimiter=',')\n",
        "X_train = np.asarray(X_train).astype(np.float64)\n",
        "print(X_train.shape)"
      ],
      "metadata": {
        "colab": {
          "base_uri": "https://localhost:8080/"
        },
        "id": "QeFYjlMAR3KE",
        "outputId": "dde115bd-daf1-4ecb-8dbb-f8ec10ca5b1a"
      },
      "execution_count": 25,
      "outputs": [
        {
          "output_type": "stream",
          "name": "stdout",
          "text": [
            "(20, 100)\n"
          ]
        }
      ]
    },
    {
      "cell_type": "code",
      "source": [
        "y_train = pd.read_csv('ECG/train/y_train.csv', delimiter=',')\n",
        "y_train = np.asarray(y_train).astype(np.float64)\n",
        "print(y_train.shape)"
      ],
      "metadata": {
        "colab": {
          "base_uri": "https://localhost:8080/"
        },
        "id": "rJZINO7pTrNT",
        "outputId": "cf57990d-216e-47ab-a208-bfbe66a283c3"
      },
      "execution_count": 26,
      "outputs": [
        {
          "output_type": "stream",
          "name": "stdout",
          "text": [
            "(20, 1)\n"
          ]
        }
      ]
    },
    {
      "cell_type": "code",
      "source": [
        "X_test = pd.read_csv('ECG/test/X_test.csv', delimiter=',')\n",
        "print(X_test.shape)"
      ],
      "metadata": {
        "colab": {
          "base_uri": "https://localhost:8080/"
        },
        "id": "O2eCLr1_VP3i",
        "outputId": "9b43f7a4-2657-4f2c-c47b-b0e59f4def8d"
      },
      "execution_count": 27,
      "outputs": [
        {
          "output_type": "stream",
          "name": "stdout",
          "text": [
            "(10, 100)\n"
          ]
        }
      ]
    },
    {
      "cell_type": "code",
      "source": [
        "y_test = pd.read_csv('ECG/test/y_test.csv', delimiter=',')\n",
        "print(y_test.shape)"
      ],
      "metadata": {
        "colab": {
          "base_uri": "https://localhost:8080/"
        },
        "id": "IODIDK5bVS_x",
        "outputId": "f28bc449-3e5b-40e9-afc1-d9a2c238c0d7"
      },
      "execution_count": 28,
      "outputs": [
        {
          "output_type": "stream",
          "name": "stdout",
          "text": [
            "(10, 1)\n"
          ]
        }
      ]
    },
    {
      "cell_type": "code",
      "source": [
        "# Define the model\n",
        "model = Sequential()\n",
        "model.add(Dense(100, activation='relu', input_dim=X_train.shape[1]))\n",
        "#/model.add()\n",
        "model.add(Dense(64, activation='relu'))\n",
        "model.add(Dense(1, activation='sigmoid'))\n",
        "\n",
        "# Compile the model\n",
        "model.compile(optimizer='adam', loss='binary_crossentropy', metrics=['accuracy'])\n",
        "\n",
        "# Train the model\n",
        "model.fit(X_train, y_train, epochs=10, batch_size=32, validation_data=(X_test, y_test))\n",
        "\n",
        "model.save('trained_model_ecg.h5')\n",
        "\n",
        "# Evaluate the model\n",
        "test_loss, test_accuracy = model.evaluate(X_test, y_test)\n",
        "print(f\"Test Accuracy: {test_accuracy}\")"
      ],
      "metadata": {
        "colab": {
          "base_uri": "https://localhost:8080/"
        },
        "id": "X6I9xF32ReVj",
        "outputId": "4302ebd5-c60e-4450-df35-6a970f87ed06"
      },
      "execution_count": 30,
      "outputs": [
        {
          "output_type": "stream",
          "name": "stdout",
          "text": [
            "Epoch 1/10\n",
            "1/1 [==============================] - 1s 1s/step - loss: 0.8771 - accuracy: 0.3500 - val_loss: 0.8514 - val_accuracy: 0.3000\n",
            "Epoch 2/10\n",
            "1/1 [==============================] - 0s 54ms/step - loss: 0.7210 - accuracy: 0.4000 - val_loss: 0.8581 - val_accuracy: 0.3000\n",
            "Epoch 3/10\n",
            "1/1 [==============================] - 0s 44ms/step - loss: 0.5818 - accuracy: 0.5000 - val_loss: 0.8657 - val_accuracy: 0.3000\n",
            "Epoch 4/10\n",
            "1/1 [==============================] - 0s 55ms/step - loss: 0.4579 - accuracy: 0.6500 - val_loss: 0.8743 - val_accuracy: 0.4000\n",
            "Epoch 5/10\n",
            "1/1 [==============================] - 0s 35ms/step - loss: 0.3459 - accuracy: 0.7500 - val_loss: 0.8847 - val_accuracy: 0.4000\n",
            "Epoch 6/10\n",
            "1/1 [==============================] - 0s 37ms/step - loss: 0.2439 - accuracy: 0.7500 - val_loss: 0.8961 - val_accuracy: 0.4000\n",
            "Epoch 7/10\n",
            "1/1 [==============================] - 0s 39ms/step - loss: 0.1505 - accuracy: 0.7500 - val_loss: 0.9090 - val_accuracy: 0.4000\n",
            "Epoch 8/10\n",
            "1/1 [==============================] - 0s 61ms/step - loss: 0.0648 - accuracy: 0.8000 - val_loss: 0.9221 - val_accuracy: 0.4000\n",
            "Epoch 9/10\n",
            "1/1 [==============================] - 0s 54ms/step - loss: -0.0133 - accuracy: 0.8000 - val_loss: 0.9376 - val_accuracy: 0.4000\n",
            "Epoch 10/10\n",
            "1/1 [==============================] - 0s 37ms/step - loss: -0.0877 - accuracy: 0.8500 - val_loss: 0.9543 - val_accuracy: 0.4000\n",
            "1/1 [==============================] - 0s 24ms/step - loss: 0.9543 - accuracy: 0.4000\n",
            "Test Accuracy: 0.4000000059604645\n"
          ]
        },
        {
          "output_type": "stream",
          "name": "stderr",
          "text": [
            "/usr/local/lib/python3.10/dist-packages/keras/src/engine/training.py:3103: UserWarning: You are saving your model as an HDF5 file via `model.save()`. This file format is considered legacy. We recommend using instead the native Keras format, e.g. `model.save('my_model.keras')`.\n",
            "  saving_api.save_model(\n"
          ]
        }
      ]
    },
    {
      "cell_type": "code",
      "source": [],
      "metadata": {
        "id": "psPGcsTXXZXa"
      },
      "execution_count": null,
      "outputs": []
    }
  ]
}